{
  "nbformat": 4,
  "nbformat_minor": 0,
  "metadata": {
    "colab": {
      "provenance": []
    },
    "kernelspec": {
      "name": "python3",
      "display_name": "Python 3"
    },
    "language_info": {
      "name": "python"
    }
  },
  "cells": [
    {
      "cell_type": "code",
      "execution_count": 7,
      "metadata": {
        "id": "Y848EtaU5ORe"
      },
      "outputs": [],
      "source": [
        "#Tarea1 de IA\n",
        "#1. Crea un programa que sume todos los números de una lista (sin usar el método nativo de Python “sum”)\n",
        "#Se trabajará con una función.\n",
        "def num_sum(datos):\n",
        "  suma = 0\n",
        "  for num in datos:\n",
        "    suma += num\n",
        "  return suma\n",
        "  #Declaramos la variable de numeros del usurio:\n",
        "  datos_usuario = input(\"Ingrese los valores a sumar\")\n",
        "  #Separar los datos en una lista de cadena y luego convertimos la cadena en numeros,\n"
      ]
    }
  ]
}