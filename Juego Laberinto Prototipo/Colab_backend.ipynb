{
  "cells": [
    {
      "cell_type": "code",
      "execution_count": 1,
      "metadata": {
        "colab": {
          "base_uri": "https://localhost:8080/"
        },
        "id": "56sRG--cdIZT",
        "outputId": "a4b63921-9f0d-4622-a736-e3679c09fafb"
      },
      "outputs": [
        {
          "output_type": "stream",
          "name": "stdout",
          "text": [
            "Requirement already satisfied: flask in /usr/local/lib/python3.11/dist-packages (3.1.0)\n",
            "Collecting flask-cors\n",
            "  Downloading flask_cors-5.0.1-py3-none-any.whl.metadata (961 bytes)\n",
            "Collecting pyngrok\n",
            "  Downloading pyngrok-7.2.5-py3-none-any.whl.metadata (8.9 kB)\n",
            "Requirement already satisfied: Werkzeug>=3.1 in /usr/local/lib/python3.11/dist-packages (from flask) (3.1.3)\n",
            "Requirement already satisfied: Jinja2>=3.1.2 in /usr/local/lib/python3.11/dist-packages (from flask) (3.1.6)\n",
            "Requirement already satisfied: itsdangerous>=2.2 in /usr/local/lib/python3.11/dist-packages (from flask) (2.2.0)\n",
            "Requirement already satisfied: click>=8.1.3 in /usr/local/lib/python3.11/dist-packages (from flask) (8.1.8)\n",
            "Requirement already satisfied: blinker>=1.9 in /usr/local/lib/python3.11/dist-packages (from flask) (1.9.0)\n",
            "Requirement already satisfied: PyYAML>=5.1 in /usr/local/lib/python3.11/dist-packages (from pyngrok) (6.0.2)\n",
            "Requirement already satisfied: MarkupSafe>=2.0 in /usr/local/lib/python3.11/dist-packages (from Jinja2>=3.1.2->flask) (3.0.2)\n",
            "Downloading flask_cors-5.0.1-py3-none-any.whl (11 kB)\n",
            "Downloading pyngrok-7.2.5-py3-none-any.whl (23 kB)\n",
            "Installing collected packages: pyngrok, flask-cors\n",
            "Successfully installed flask-cors-5.0.1 pyngrok-7.2.5\n"
          ]
        }
      ],
      "source": [
        "!pip install flask flask-cors pyngrok\n"
      ]
    },
    {
      "cell_type": "code",
      "execution_count": 2,
      "metadata": {
        "colab": {
          "base_uri": "https://localhost:8080/"
        },
        "id": "EoxREBXEdUqt",
        "outputId": "6979af2c-b5fa-4620-aa8c-b04e65a2bfa0"
      },
      "outputs": [
        {
          "output_type": "stream",
          "name": "stdout",
          "text": []
        }
      ],
      "source": [
        "from pyngrok import ngrok\n",
        "\n",
        "# Authtoken personal (puedes revocarlo en el dashboard si quieres en el futuro)\n",
        "ngrok.set_auth_token(\"2w5n1KQhLka9SlpuV3aXRahjwUF_2ou5PSU8UFMLEEUay91Jr\")\n",
        "\n"
      ]
    },
    {
      "cell_type": "code",
      "execution_count": 3,
      "metadata": {
        "id": "Orj3LU-1dl1i"
      },
      "outputs": [],
      "source": [
        "from flask import Flask, request, jsonify\n",
        "from flask_cors import CORS\n",
        "import base64\n",
        "from PIL import Image, ImageOps\n",
        "import io\n",
        "import numpy as np\n",
        "\n",
        "app = Flask(__name__)\n",
        "CORS(app)\n",
        "\n",
        "@app.route(\"/procesar\", methods=[\"POST\"])\n",
        "def procesar_imagen():\n",
        "    try:\n",
        "        data = request.get_json()\n",
        "        imagen_base64 = data['imagen'].split(',')[1]\n",
        "\n",
        "        # Decodificar imagen\n",
        "        imagen_bytes = base64.b64decode(imagen_base64)\n",
        "        imagen = Image.open(io.BytesIO(imagen_bytes)).convert('L')  # escala de grises\n",
        "\n",
        "        # Detectar trazo\n",
        "        arr = np.array(imagen)\n",
        "        threshold = 240\n",
        "        mask = arr < threshold\n",
        "\n",
        "        if not mask.any():\n",
        "            return jsonify({\n",
        "                \"mensaje\": \"No se detectó dibujo.\",\n",
        "                \"imagen_sprite\": \"\"\n",
        "            })\n",
        "\n",
        "        coords = np.argwhere(mask)\n",
        "        y0, x0 = coords.min(axis=0)\n",
        "        y1, x1 = coords.max(axis=0) + 1\n",
        "\n",
        "        # Recorte y centrado\n",
        "        imagen_recortada = imagen.crop((x0, y0, x1, y1)).convert(\"RGB\")\n",
        "        imagen_centrada = Image.new(\"RGB\", (140, 140), (255, 255, 255))\n",
        "        imagen_redimensionada = ImageOps.contain(imagen_recortada, (140, 140))\n",
        "        offset = ((140 - imagen_redimensionada.width) // 2, (140 - imagen_redimensionada.height) // 2)\n",
        "        imagen_centrada.paste(imagen_redimensionada, offset)\n",
        "\n",
        "        # 🔥 Convertir a RGBA y hacer fondo blanco transparente\n",
        "        imagen_rgba = imagen_centrada.convert(\"RGBA\")\n",
        "        datas = imagen_rgba.getdata()\n",
        "        nueva_data = []\n",
        "        for item in datas:\n",
        "            if item[0] > 240 and item[1] > 240 and item[2] > 240:\n",
        "                nueva_data.append((255, 255, 255, 0))  # transparencia\n",
        "            else:\n",
        "                nueva_data.append(item)\n",
        "        imagen_rgba.putdata(nueva_data)\n",
        "\n",
        "        # Convertir a base64\n",
        "        buffered = io.BytesIO()\n",
        "        imagen_rgba.save(buffered, format=\"PNG\")\n",
        "        nueva_base64 = base64.b64encode(buffered.getvalue()).decode('utf-8')\n",
        "        nueva_base64 = f\"data:image/png;base64,{nueva_base64}\"\n",
        "\n",
        "        return jsonify({\n",
        "            \"mensaje\": \"¡Sprite procesado con fondo transparente!\",\n",
        "            \"imagen_sprite\": nueva_base64\n",
        "        })\n",
        "\n",
        "    except Exception as e:\n",
        "        return jsonify({\n",
        "            \"mensaje\": f\"Error: {str(e)}\",\n",
        "            \"imagen_sprite\": \"\"\n",
        "        })\n"
      ]
    },
    {
      "cell_type": "code",
      "execution_count": 6,
      "metadata": {
        "colab": {
          "base_uri": "https://localhost:8080/"
        },
        "id": "hd0qfYYdfWIo",
        "outputId": "37dd49db-d61a-46ed-8a6d-49802f252682"
      },
      "outputs": [
        {
          "output_type": "stream",
          "name": "stdout",
          "text": [
            "✅ URL pública del backend: NgrokTunnel: \"https://ad2c-34-90-232-12.ngrok-free.app\" -> \"http://localhost:5000\"\n",
            " * Serving Flask app '__main__'\n",
            " * Debug mode: off\n"
          ]
        },
        {
          "output_type": "stream",
          "name": "stderr",
          "text": [
            "INFO:werkzeug:\u001b[31m\u001b[1mWARNING: This is a development server. Do not use it in a production deployment. Use a production WSGI server instead.\u001b[0m\n",
            " * Running on http://127.0.0.1:5000\n",
            "INFO:werkzeug:\u001b[33mPress CTRL+C to quit\u001b[0m\n",
            "INFO:werkzeug:127.0.0.1 - - [24/Apr/2025 02:38:30] \"OPTIONS /procesar HTTP/1.1\" 200 -\n",
            "INFO:werkzeug:127.0.0.1 - - [24/Apr/2025 02:38:30] \"POST /procesar HTTP/1.1\" 200 -\n",
            "INFO:werkzeug:127.0.0.1 - - [24/Apr/2025 02:39:17] \"OPTIONS /procesar HTTP/1.1\" 200 -\n",
            "INFO:werkzeug:127.0.0.1 - - [24/Apr/2025 02:39:17] \"POST /procesar HTTP/1.1\" 200 -\n",
            "INFO:werkzeug:127.0.0.1 - - [24/Apr/2025 02:41:38] \"OPTIONS /procesar HTTP/1.1\" 200 -\n",
            "INFO:werkzeug:127.0.0.1 - - [24/Apr/2025 02:41:38] \"POST /procesar HTTP/1.1\" 200 -\n",
            "INFO:werkzeug:127.0.0.1 - - [24/Apr/2025 02:43:22] \"OPTIONS /procesar HTTP/1.1\" 200 -\n",
            "INFO:werkzeug:127.0.0.1 - - [24/Apr/2025 02:43:23] \"POST /procesar HTTP/1.1\" 200 -\n",
            "INFO:werkzeug:127.0.0.1 - - [24/Apr/2025 02:44:35] \"OPTIONS /procesar HTTP/1.1\" 200 -\n",
            "INFO:werkzeug:127.0.0.1 - - [24/Apr/2025 02:44:35] \"POST /procesar HTTP/1.1\" 200 -\n",
            "INFO:werkzeug:127.0.0.1 - - [24/Apr/2025 02:45:01] \"OPTIONS /procesar HTTP/1.1\" 200 -\n",
            "INFO:werkzeug:127.0.0.1 - - [24/Apr/2025 02:45:01] \"POST /procesar HTTP/1.1\" 200 -\n",
            "INFO:werkzeug:127.0.0.1 - - [24/Apr/2025 02:45:54] \"OPTIONS /procesar HTTP/1.1\" 200 -\n",
            "INFO:werkzeug:127.0.0.1 - - [24/Apr/2025 02:45:55] \"POST /procesar HTTP/1.1\" 200 -\n",
            "INFO:werkzeug:127.0.0.1 - - [24/Apr/2025 02:46:07] \"OPTIONS /procesar HTTP/1.1\" 200 -\n",
            "INFO:werkzeug:127.0.0.1 - - [24/Apr/2025 02:46:07] \"POST /procesar HTTP/1.1\" 200 -\n",
            "INFO:werkzeug:127.0.0.1 - - [24/Apr/2025 02:46:21] \"OPTIONS /procesar HTTP/1.1\" 200 -\n",
            "INFO:werkzeug:127.0.0.1 - - [24/Apr/2025 02:46:22] \"POST /procesar HTTP/1.1\" 200 -\n",
            "INFO:werkzeug:127.0.0.1 - - [24/Apr/2025 02:47:12] \"OPTIONS /procesar HTTP/1.1\" 200 -\n",
            "INFO:werkzeug:127.0.0.1 - - [24/Apr/2025 02:47:13] \"POST /procesar HTTP/1.1\" 200 -\n",
            "INFO:werkzeug:127.0.0.1 - - [24/Apr/2025 02:47:20] \"OPTIONS /procesar HTTP/1.1\" 200 -\n",
            "INFO:werkzeug:127.0.0.1 - - [24/Apr/2025 02:47:21] \"POST /procesar HTTP/1.1\" 200 -\n",
            "INFO:werkzeug:127.0.0.1 - - [24/Apr/2025 02:47:48] \"OPTIONS /procesar HTTP/1.1\" 200 -\n",
            "INFO:werkzeug:127.0.0.1 - - [24/Apr/2025 02:47:48] \"POST /procesar HTTP/1.1\" 200 -\n",
            "INFO:werkzeug:127.0.0.1 - - [24/Apr/2025 02:50:22] \"OPTIONS /procesar HTTP/1.1\" 200 -\n",
            "INFO:werkzeug:127.0.0.1 - - [24/Apr/2025 02:50:22] \"POST /procesar HTTP/1.1\" 200 -\n",
            "INFO:werkzeug:127.0.0.1 - - [24/Apr/2025 02:50:33] \"OPTIONS /procesar HTTP/1.1\" 200 -\n",
            "INFO:werkzeug:127.0.0.1 - - [24/Apr/2025 02:50:34] \"POST /procesar HTTP/1.1\" 200 -\n",
            "INFO:werkzeug:127.0.0.1 - - [24/Apr/2025 02:52:24] \"OPTIONS /procesar HTTP/1.1\" 200 -\n",
            "INFO:werkzeug:127.0.0.1 - - [24/Apr/2025 02:52:24] \"POST /procesar HTTP/1.1\" 200 -\n",
            "INFO:werkzeug:127.0.0.1 - - [24/Apr/2025 02:52:29] \"POST /procesar HTTP/1.1\" 200 -\n",
            "INFO:werkzeug:127.0.0.1 - - [24/Apr/2025 02:52:34] \"OPTIONS /procesar HTTP/1.1\" 200 -\n",
            "INFO:werkzeug:127.0.0.1 - - [24/Apr/2025 02:52:35] \"POST /procesar HTTP/1.1\" 200 -\n",
            "INFO:werkzeug:127.0.0.1 - - [24/Apr/2025 02:52:46] \"OPTIONS /procesar HTTP/1.1\" 200 -\n",
            "INFO:werkzeug:127.0.0.1 - - [24/Apr/2025 02:52:47] \"POST /procesar HTTP/1.1\" 200 -\n",
            "INFO:werkzeug:127.0.0.1 - - [24/Apr/2025 02:53:06] \"OPTIONS /procesar HTTP/1.1\" 200 -\n",
            "INFO:werkzeug:127.0.0.1 - - [24/Apr/2025 02:53:06] \"POST /procesar HTTP/1.1\" 200 -\n",
            "INFO:werkzeug:127.0.0.1 - - [24/Apr/2025 02:54:02] \"OPTIONS /procesar HTTP/1.1\" 200 -\n",
            "INFO:werkzeug:127.0.0.1 - - [24/Apr/2025 02:54:02] \"POST /procesar HTTP/1.1\" 200 -\n",
            "INFO:werkzeug:127.0.0.1 - - [24/Apr/2025 02:55:14] \"OPTIONS /procesar HTTP/1.1\" 200 -\n",
            "INFO:werkzeug:127.0.0.1 - - [24/Apr/2025 02:55:15] \"POST /procesar HTTP/1.1\" 200 -\n",
            "INFO:werkzeug:127.0.0.1 - - [24/Apr/2025 02:57:36] \"OPTIONS /procesar HTTP/1.1\" 200 -\n",
            "INFO:werkzeug:127.0.0.1 - - [24/Apr/2025 02:57:36] \"POST /procesar HTTP/1.1\" 200 -\n",
            "INFO:werkzeug:127.0.0.1 - - [24/Apr/2025 02:58:08] \"OPTIONS /procesar HTTP/1.1\" 200 -\n",
            "INFO:werkzeug:127.0.0.1 - - [24/Apr/2025 02:58:09] \"POST /procesar HTTP/1.1\" 200 -\n"
          ]
        }
      ],
      "source": [
        "public_url = ngrok.connect(5000)\n",
        "print(\"✅ URL pública del backend:\", public_url)\n",
        "app.run(port=5000)\n",
        "\n"
      ]
    },
    {
      "cell_type": "code",
      "execution_count": null,
      "metadata": {
        "id": "4RRw17GXvuhc"
      },
      "outputs": [],
      "source": []
    }
  ],
  "metadata": {
    "colab": {
      "toc_visible": true,
      "provenance": []
    },
    "kernelspec": {
      "display_name": "Python 3",
      "name": "python3"
    },
    "language_info": {
      "name": "python"
    }
  },
  "nbformat": 4,
  "nbformat_minor": 0
}